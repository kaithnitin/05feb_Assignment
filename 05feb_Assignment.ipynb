{
 "cells": [
  {
   "cell_type": "code",
   "execution_count": 1,
   "id": "537e30c7-0655-421c-810e-4696a87c6f95",
   "metadata": {},
   "outputs": [],
   "source": [
    "# Q1. Explain Class and Object with respect to Object-Oriented Programming. Give a suitable example."
   ]
  },
  {
   "cell_type": "code",
   "execution_count": 2,
   "id": "8b9022bd-f9d7-4788-adf4-7ab227772d0f",
   "metadata": {},
   "outputs": [],
   "source": [
    "# a class is a blueprint for creating objects that encapsulates data and the behaviors that operate on that data. \n",
    "# Objects are instances of a class, and they contain the data and behaviors defined by the class."
   ]
  },
  {
   "cell_type": "code",
   "execution_count": 25,
   "id": "441dddb6-d8cf-4f02-b7eb-ffc0034a2456",
   "metadata": {},
   "outputs": [],
   "source": [
    "class hw:\n",
    "    def h_w(self):\n",
    "        print(\"HELLO WORLD\")"
   ]
  },
  {
   "cell_type": "code",
   "execution_count": 26,
   "id": "a4dfb2ae-a8bb-42d4-87c3-beb35b5e9a29",
   "metadata": {},
   "outputs": [],
   "source": [
    "rohan=hw()"
   ]
  },
  {
   "cell_type": "code",
   "execution_count": 27,
   "id": "291afcc8-b73a-4545-8a9b-2cc9e72cc75e",
   "metadata": {},
   "outputs": [
    {
     "name": "stdout",
     "output_type": "stream",
     "text": [
      "HELLO WORLD\n"
     ]
    }
   ],
   "source": [
    "rohan.h_w()"
   ]
  },
  {
   "cell_type": "code",
   "execution_count": 14,
   "id": "4f9c33a8-93ed-47ea-821b-42ef8a250fdb",
   "metadata": {},
   "outputs": [],
   "source": [
    "class employ:\n",
    "    def __init__(self, age, e_id ):\n",
    "        self.age=age\n",
    "        self.id=e_id\n",
    "        \n",
    "    def return_employ_details(self):\n",
    "        return self.age, self.id"
   ]
  },
  {
   "cell_type": "code",
   "execution_count": 15,
   "id": "bc79da61-76a4-454d-84f7-9a01223753b7",
   "metadata": {},
   "outputs": [],
   "source": [
    "rohan=employ(25,1)"
   ]
  },
  {
   "cell_type": "code",
   "execution_count": 16,
   "id": "11c64b21-4e00-4620-953f-a1bff360eada",
   "metadata": {},
   "outputs": [
    {
     "data": {
      "text/plain": [
       "(25, 1)"
      ]
     },
     "execution_count": 16,
     "metadata": {},
     "output_type": "execute_result"
    }
   ],
   "source": [
    "rohan.return_employ_details()"
   ]
  },
  {
   "cell_type": "code",
   "execution_count": 17,
   "id": "a3a777d0-0ab9-452e-b0ae-f07823a48354",
   "metadata": {},
   "outputs": [
    {
     "data": {
      "text/plain": [
       "25"
      ]
     },
     "execution_count": 17,
     "metadata": {},
     "output_type": "execute_result"
    }
   ],
   "source": [
    "rohan.age"
   ]
  },
  {
   "cell_type": "code",
   "execution_count": 8,
   "id": "fb467d85-94a5-469e-b15b-f57d95105493",
   "metadata": {},
   "outputs": [
    {
     "data": {
      "text/plain": [
       "1"
      ]
     },
     "execution_count": 8,
     "metadata": {},
     "output_type": "execute_result"
    }
   ],
   "source": [
    "rohan.id"
   ]
  },
  {
   "cell_type": "code",
   "execution_count": 9,
   "id": "87b3a419-f9e5-47fb-871c-dd91cb2cdb8a",
   "metadata": {},
   "outputs": [],
   "source": [
    "sudh=employ(27,2)"
   ]
  },
  {
   "cell_type": "code",
   "execution_count": 11,
   "id": "71ca9a40-bcc2-41ed-8c32-73979ee51d17",
   "metadata": {},
   "outputs": [
    {
     "data": {
      "text/plain": [
       "(27, 2)"
      ]
     },
     "execution_count": 11,
     "metadata": {},
     "output_type": "execute_result"
    }
   ],
   "source": [
    "sudh.return_employ_details()"
   ]
  },
  {
   "cell_type": "code",
   "execution_count": 12,
   "id": "0de59ebd-9abf-4d12-99a2-577aadf3fe5b",
   "metadata": {},
   "outputs": [
    {
     "data": {
      "text/plain": [
       "27"
      ]
     },
     "execution_count": 12,
     "metadata": {},
     "output_type": "execute_result"
    }
   ],
   "source": [
    "sudh.age"
   ]
  },
  {
   "cell_type": "code",
   "execution_count": 13,
   "id": "c02ebdc5-cd53-4cc8-ad53-c1dfad303729",
   "metadata": {},
   "outputs": [
    {
     "data": {
      "text/plain": [
       "2"
      ]
     },
     "execution_count": 13,
     "metadata": {},
     "output_type": "execute_result"
    }
   ],
   "source": [
    "sudh.id"
   ]
  },
  {
   "cell_type": "code",
   "execution_count": 18,
   "id": "d4f3c9db-a44b-4583-98d8-91708c588012",
   "metadata": {},
   "outputs": [],
   "source": [
    "# Q2. Name the four pillars of OOPs."
   ]
  },
  {
   "cell_type": "code",
   "execution_count": null,
   "id": "f0faecb7-8be6-4c4c-8f8a-f9d83a23726a",
   "metadata": {},
   "outputs": [],
   "source": [
    "# 1. Abstraction\n",
    "# 2. Encapsulation\n",
    "# 3. Inheritance\n",
    "# 4. Polymorphism"
   ]
  },
  {
   "cell_type": "code",
   "execution_count": null,
   "id": "f32a3367-da6c-4c0c-9bcb-a60b4176d9b3",
   "metadata": {},
   "outputs": [],
   "source": [
    "# Q3. Explain why the __init__() function is used. Give a suitable example."
   ]
  },
  {
   "cell_type": "code",
   "execution_count": null,
   "id": "135f91c4-084e-439a-8950-a65bd84eb3aa",
   "metadata": {},
   "outputs": [],
   "source": [
    "# 1. \"__init__()\" function is a special method used to initialize the object's attributes when an instance of the class is created.\n",
    "# 2.  It is called a constructor method.\n",
    "# 3. when an object is created and is used to set the initial state of the object. It takes the self parameter, which refers to the \n",
    "#    object being created, and any other parameters required to initialize the object."
   ]
  },
  {
   "cell_type": "code",
   "execution_count": 19,
   "id": "d143c244-ce45-429a-9ef2-fcdd01a22367",
   "metadata": {},
   "outputs": [],
   "source": [
    "# Example:\n",
    "class cars:\n",
    "    def __init__(self,top_speed, color):\n",
    "        self.ts=top_speed\n",
    "        self.color=color\n",
    "        \n",
    "    def return_info(self):\n",
    "        return self.ts, self.color"
   ]
  },
  {
   "cell_type": "code",
   "execution_count": 20,
   "id": "ae1e56c4-8d78-484c-8a42-8817462fca40",
   "metadata": {},
   "outputs": [],
   "source": [
    "bugati=cars(350,\"white\")"
   ]
  },
  {
   "cell_type": "code",
   "execution_count": 21,
   "id": "43a6f5d7-7223-4629-9f59-4044e6ce8052",
   "metadata": {},
   "outputs": [
    {
     "data": {
      "text/plain": [
       "(350, 'white')"
      ]
     },
     "execution_count": 21,
     "metadata": {},
     "output_type": "execute_result"
    }
   ],
   "source": [
    "bugati.return_info()"
   ]
  },
  {
   "cell_type": "code",
   "execution_count": 22,
   "id": "146d0ce9-0d18-4bb5-8d34-4a82acf1e333",
   "metadata": {},
   "outputs": [
    {
     "data": {
      "text/plain": [
       "350"
      ]
     },
     "execution_count": 22,
     "metadata": {},
     "output_type": "execute_result"
    }
   ],
   "source": [
    "bugati.ts"
   ]
  },
  {
   "cell_type": "code",
   "execution_count": 23,
   "id": "2fde199b-0ca8-4acb-9c9f-9ef50fb21ddb",
   "metadata": {},
   "outputs": [
    {
     "data": {
      "text/plain": [
       "'white'"
      ]
     },
     "execution_count": 23,
     "metadata": {},
     "output_type": "execute_result"
    }
   ],
   "source": [
    "bugati.color"
   ]
  },
  {
   "cell_type": "code",
   "execution_count": 28,
   "id": "ba6a10a8-1c4b-4ac9-ae0a-99bf8c801dae",
   "metadata": {},
   "outputs": [],
   "source": [
    "# Q4. Why self is used in OOPs?"
   ]
  },
  {
   "cell_type": "code",
   "execution_count": 29,
   "id": "a634b9bd-a0cf-4a5b-9bb4-98e303f793c2",
   "metadata": {},
   "outputs": [],
   "source": [
    "# 1. \"self\" is a special variable that refers to the object that is being operated on by a method. \n",
    "#     It is used to access the attributes and methods of the object within the class.\n",
    "\n",
    "# 2. When a method is called on an object, the \"self\" parameter is automatically passed to the method by Python. \n",
    "#     The \"self\" parameter is the first parameter of every method defined \n",
    "#     in a class and it is used to reference the object's own instance variables and methods.\n",
    "\n",
    "# 3. The use of \"self\" is important because it allows us to differentiate between instance variables\n",
    "#     (belonging to a particular instance of a class) and class variables (shared by all instances of the class)."
   ]
  },
  {
   "cell_type": "code",
   "execution_count": 30,
   "id": "928af9b5-c9ab-46b1-9f2c-bae8688c34d5",
   "metadata": {},
   "outputs": [],
   "source": [
    "# Q5. What is inheritance? Give an example for each type of inheritance."
   ]
  },
  {
   "cell_type": "code",
   "execution_count": 31,
   "id": "90b1f711-19ac-4e08-80f5-0cd85add4f3a",
   "metadata": {},
   "outputs": [],
   "source": [
    "# Inheritance is a fundamental concept in object-oriented programming (OOP) that allows a new class to be based on an existing class. \n",
    "#  The new class, known as the subclass or derived class, inherits the attributes and methods of the existing class, \n",
    "#  known as the superclass or base class, and can also add its own attributes and methods.\n",
    "\n",
    "# ==> There are four types of inheritance in Python:\n",
    "\n",
    "# 1. Single inheritance\n",
    "# 2. Multiple inheritance\n",
    "# 3. Multi-level inheritance\n",
    "# 4. Hierarchical inheritance\n",
    "# 5. Hybrid inheritance"
   ]
  },
  {
   "cell_type": "code",
   "execution_count": 32,
   "id": "c8694e7a-2636-4e72-98e5-b813014bd29d",
   "metadata": {},
   "outputs": [],
   "source": [
    "# 1. Single inheritance"
   ]
  },
  {
   "cell_type": "code",
   "execution_count": 33,
   "id": "0b1b23eb-7faa-4824-8073-114be4ce7b7c",
   "metadata": {},
   "outputs": [
    {
     "name": "stdout",
     "output_type": "stream",
     "text": [
      "Make: Toyota, Model: Corolla, Year: 2022\n",
      "Doors: 4\n"
     ]
    }
   ],
   "source": [
    "class Vehicle:\n",
    "    def __init__(self, make, model, year):\n",
    "        self.make = make\n",
    "        self.model = model\n",
    "        self.year = year\n",
    "\n",
    "    def get_info(self):\n",
    "        print(f\"Make: {self.make}, Model: {self.model}, Year: {self.year}\")\n",
    "\n",
    "class Car(Vehicle):\n",
    "    def __init__(self, make, model, year, doors):\n",
    "        super().__init__(make, model, year)\n",
    "        self.doors = doors\n",
    "\n",
    "    def get_info(self):\n",
    "        super().get_info()\n",
    "        print(f\"Doors: {self.doors}\")\n",
    "\n",
    "car = Car(\"Toyota\", \"Corolla\", 2022, 4)\n",
    "car.get_info()\n"
   ]
  },
  {
   "cell_type": "code",
   "execution_count": null,
   "id": "a0849dba-922f-4673-85c8-faffd96736f2",
   "metadata": {},
   "outputs": [],
   "source": [
    "# 2. Multiple inheritance"
   ]
  },
  {
   "cell_type": "code",
   "execution_count": 40,
   "id": "7742939d-c117-4c33-8719-da8592b550c1",
   "metadata": {},
   "outputs": [
    {
     "name": "stdout",
     "output_type": "stream",
     "text": [
      "Woof! My name is Buddy\n",
      "Meow! My name is Buddy\n"
     ]
    }
   ],
   "source": [
    "class Dog:\n",
    "    def __init__(self, name):\n",
    "        self.name = name\n",
    "\n",
    "    def bark(self):\n",
    "        print(\"Woof! My name is\", self.name)\n",
    "\n",
    "class Cat:\n",
    "    def __init__(self, name):\n",
    "        self.name = name\n",
    "\n",
    "    def meow(self):\n",
    "        print(\"Meow! My name is\", self.name)\n",
    "\n",
    "class DogCat(Dog, Cat):\n",
    "    def __init__(self, name):\n",
    "        Dog.__init__(self, name)\n",
    "        Cat.__init__(self, name)\n",
    "\n",
    "dogcat = DogCat(\"Buddy\")\n",
    "dogcat.bark()\n",
    "dogcat.meow()"
   ]
  },
  {
   "cell_type": "code",
   "execution_count": null,
   "id": "14bf6b74-1820-43da-9f37-37069eff3dc6",
   "metadata": {},
   "outputs": [],
   "source": [
    "# 3. Multi-level inheritance"
   ]
  },
  {
   "cell_type": "code",
   "execution_count": 39,
   "id": "61931d2c-f8ce-4812-ac1c-478a6793c7e6",
   "metadata": {},
   "outputs": [
    {
     "name": "stdout",
     "output_type": "stream",
     "text": [
      "Hello, I am John\n",
      "Hi, I am Alice and I am 40 years old.\n",
      "Hey, I am Bob and I am in grade 5\n"
     ]
    }
   ],
   "source": [
    "class Grandparent:\n",
    "    def __init__(self, name):\n",
    "        self.name = name\n",
    "\n",
    "    def speak(self):\n",
    "        print(\"Hello, I am\", self.name)\n",
    "\n",
    "class Parent(Grandparent):\n",
    "    def __init__(self, name, age):\n",
    "        super().__init__(name)\n",
    "        self.age = age\n",
    "\n",
    "    def speak(self):\n",
    "        print(\"Hi, I am\", self.name, \"and I am\", self.age, \"years old.\")\n",
    "\n",
    "class Child(Parent):\n",
    "    def __init__(self, name, age, grade):\n",
    "        super().__init__(name, age)\n",
    "        self.grade = grade\n",
    "\n",
    "    def speak(self):\n",
    "        print(\"Hey, I am\", self.name, \"and I am in grade\", self.grade)\n",
    "\n",
    "grandparent = Grandparent(\"John\")\n",
    "parent = Parent(\"Alice\", 40)\n",
    "child = Child(\"Bob\", 10, 5)\n",
    "\n",
    "grandparent.speak()\n",
    "parent.speak()\n",
    "child.speak()"
   ]
  },
  {
   "cell_type": "code",
   "execution_count": null,
   "id": "97da61c9-3593-4128-af5b-cfb078f11d80",
   "metadata": {},
   "outputs": [],
   "source": [
    "# 4. Hierarchical inheritance"
   ]
  },
  {
   "cell_type": "code",
   "execution_count": 35,
   "id": "9208494c-0834-4173-9cf8-c2813c12d365",
   "metadata": {},
   "outputs": [
    {
     "name": "stdout",
     "output_type": "stream",
     "text": [
      "Woof!\n",
      "Meow!\n"
     ]
    }
   ],
   "source": [
    "class Animal:\n",
    "    def __init__(self, name):\n",
    "        self.name = name\n",
    "\n",
    "    def speak(self):\n",
    "        pass\n",
    "\n",
    "class Dog(Animal):\n",
    "    def __init__(self, name, breed):\n",
    "        super().__init__(name)\n",
    "        self.breed = breed\n",
    "\n",
    "    def speak(self):\n",
    "        print(\"Woof!\")\n",
    "\n",
    "class Cat(Animal):\n",
    "    def __init__(self, name, color):\n",
    "        super().__init__(name)\n",
    "        self.color = color\n",
    "\n",
    "    def speak(self):\n",
    "        print(\"Meow!\")\n",
    "\n",
    "dog = Dog(\"Buddy\", \"Labrador\")\n",
    "cat = Cat(\"Whiskers\", \"Orange\")\n",
    "\n",
    "dog.speak()\n",
    "cat.speak()"
   ]
  },
  {
   "cell_type": "code",
   "execution_count": 37,
   "id": "99f97391-b26a-48bc-a046-2a26ccea59cb",
   "metadata": {},
   "outputs": [],
   "source": [
    "# 5. Hybrid inheritance"
   ]
  },
  {
   "cell_type": "code",
   "execution_count": 38,
   "id": "76758d90-d92e-437b-9459-7796506a6e47",
   "metadata": {},
   "outputs": [
    {
     "name": "stdout",
     "output_type": "stream",
     "text": [
      "This is method A\n",
      "This is method B\n",
      "This is method C\n",
      "This is method D\n"
     ]
    }
   ],
   "source": [
    "class A:\n",
    "    def method_a(self):\n",
    "        print(\"This is method A\")\n",
    "\n",
    "class B(A):\n",
    "    def method_b(self):\n",
    "        print(\"This is method B\")\n",
    "\n",
    "class C(A):\n",
    "    def method_c(self):\n",
    "        print(\"This is method C\")\n",
    "\n",
    "class D(B, C):\n",
    "    def method_d(self):\n",
    "        print(\"This is method D\")\n",
    "\n",
    "d = D()\n",
    "d.method_a()\n",
    "d.method_b()\n",
    "d.method_c()\n",
    "d.method_d()"
   ]
  },
  {
   "cell_type": "code",
   "execution_count": null,
   "id": "a77c03f0-d47e-4e61-ac86-f7c52b3d0b86",
   "metadata": {},
   "outputs": [],
   "source": []
  }
 ],
 "metadata": {
  "kernelspec": {
   "display_name": "Python 3 (ipykernel)",
   "language": "python",
   "name": "python3"
  },
  "language_info": {
   "codemirror_mode": {
    "name": "ipython",
    "version": 3
   },
   "file_extension": ".py",
   "mimetype": "text/x-python",
   "name": "python",
   "nbconvert_exporter": "python",
   "pygments_lexer": "ipython3",
   "version": "3.10.6"
  }
 },
 "nbformat": 4,
 "nbformat_minor": 5
}
